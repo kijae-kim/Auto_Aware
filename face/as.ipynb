{
 "cells": [
  {
   "cell_type": "code",
   "execution_count": 1,
   "metadata": {},
   "outputs": [
    {
     "name": "stdout",
     "output_type": "stream",
     "text": [
      "12\n",
      "['Kwak', 'Kwak', 'Kwak', 'Kwak', 'JangDragon', 'JangDragon', 'JangDragon', 'JangDragon', 'wonjin', 'wonjin', 'wonjin', 'wonjin']\n"
     ]
    }
   ],
   "source": [
    "import os\n",
    "import pickle\n",
    "file_path = './encodings.pickle'\n",
    "with open(file_path, 'rb') as file:\n",
    "    main_encodings = pickle.load(file)\n",
    "\n",
    "print(len(main_encodings['encodings']))\n",
    "print(main_encodings['names'])"
   ]
  },
  {
   "cell_type": "code",
   "execution_count": 4,
   "metadata": {},
   "outputs": [
    {
     "data": {
      "text/plain": [
       "[4, 5, 6, 7]"
      ]
     },
     "execution_count": 4,
     "metadata": {},
     "output_type": "execute_result"
    }
   ],
   "source": [
    "indices_to_remove = [index for index, name in enumerate(main_encodings['names']) if name == \"wonjin\"]\n",
    "\n",
    "indices_to_remove"
   ]
  },
  {
   "cell_type": "code",
   "execution_count": 5,
   "metadata": {},
   "outputs": [
    {
     "name": "stdout",
     "output_type": "stream",
     "text": [
      "파일 수정 완료.\n"
     ]
    }
   ],
   "source": [
    "main_encodings['names'] = [name for index, name in enumerate(main_encodings['names']) if index not in indices_to_remove]\n",
    "main_encodings['encodings'] = [value for index, value in enumerate(main_encodings['encodings']) if index not in indices_to_remove]\n",
    "\n",
    "with open(file_path, 'wb') as file:\n",
    "    pickle.dump(main_encodings, file)\n",
    "\n",
    "print(\"파일 수정 완료.\")"
   ]
  },
  {
   "cell_type": "code",
   "execution_count": 6,
   "metadata": {},
   "outputs": [
    {
     "name": "stdout",
     "output_type": "stream",
     "text": [
      "4\n",
      "['Kwak', 'Kwak', 'Kwak', 'Kwak']\n"
     ]
    }
   ],
   "source": [
    "with open(file_path, 'rb') as file:\n",
    "    main_encodings = pickle.load(file)\n",
    "\n",
    "print(len(main_encodings['encodings']))\n",
    "print(main_encodings['names'])"
   ]
  },
  {
   "cell_type": "code",
   "execution_count": null,
   "metadata": {},
   "outputs": [],
   "source": []
  }
 ],
 "metadata": {
  "kernelspec": {
   "display_name": "Python 3",
   "language": "python",
   "name": "python3"
  },
  "language_info": {
   "codemirror_mode": {
    "name": "ipython",
    "version": 3
   },
   "file_extension": ".py",
   "mimetype": "text/x-python",
   "name": "python",
   "nbconvert_exporter": "python",
   "pygments_lexer": "ipython3",
   "version": "3.10.11"
  }
 },
 "nbformat": 4,
 "nbformat_minor": 2
}
